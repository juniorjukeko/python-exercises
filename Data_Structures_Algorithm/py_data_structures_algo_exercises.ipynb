{
 "cells": [
  {
   "cell_type": "markdown",
   "metadata": {},
   "source": [
    "## **1. PIN**\n",
    "\n",
    "\n",
    "<img src=\"https://storage.googleapis.com/rg-ai-bootcamp/internship/pin.png\" width=\"250\" height=\"250\"\n",
    "        style=\"display: block; margin: 0 auto\"/>\n",
    "\n",
    "If you use Android, one way to unlock you phone is by swiping a pattern on the screen. The pattern is a sequence of 9 dots, and you can swipe horizontally, vertically, or diagonally. Here we set some restrictions on how you can make your swipe patterns:\n",
    "\n",
    "1. **You can't press the same dot twice.**. For example, below are valid patterns with length == 3:\n",
    "   \n",
    "<img src=\"https://storage.googleapis.com/rg-ai-bootcamp/internship/valid-pin.png\" width=\"800\" height=\"200\"\n",
    "        style=\"display: block; margin: 0 auto\"/>\n",
    "\n",
    "2. We **only allow** swiping to the **adjacent dots** (horizontally, vertically, and diagonally). For example, the pattern below is invalid because they are not adjacent:\n",
    "   \n",
    "<img src=\"https://storage.googleapis.com/rg-ai-bootcamp/internship/invalid-pin.png\" width=\"200\" height=\"200\"\n",
    "        style=\"display: block; margin: 0 auto\"/>\n",
    "\n",
    "3. The swiping can start from any dot, and the length of the pattern can be any number from 1 to 9.\n",
    "\n",
    "### **Challenge**\n",
    "\n",
    "**Given the length of the pattern, return the number of possible pin patterns** e.g.\n",
    "\n",
    "`num_of_possible_pins(1) == 9`<br>\n",
    "`num_of_possible_pins(2) == 40`\n"
   ]
  },
  {
   "cell_type": "markdown",
   "metadata": {},
   "source": [
    "### **Solution**\n",
    "\n",
    "This problem can be defined as finding a set of valid permutations with the length of n (length of the PIN). We can do this using Depth-first search (DFS) algorithm for traversing a graph or tree data structure. In this case the sequence of PIN can be described as a tree.\n",
    "\n",
    "The general strategy is as follows :\n",
    "1. Visit a vertex (node) *s*.\n",
    "2. Mark *s* as visited.\n",
    "3. Recursively visit each **VALID** & **UNVISITED** vertex attached to *s* until the entire tree is traversed."
   ]
  },
  {
   "cell_type": "markdown",
   "metadata": {},
   "source": [
    "Here's a graph example of 3-digits PIN with 1 as the starting point.\n",
    "\n",
    "<img src=\"https://drive.google.com/uc?id=15zNcTZJ5cnetDdSvCsjPGLU4PYTThDI1\" width=\"600\" height=\"300\"\n",
    "        style=\"display: block; margin: 0 auto\"/>"
   ]
  },
  {
   "cell_type": "code",
   "execution_count": 3,
   "metadata": {},
   "outputs": [],
   "source": [
    "class AndroidPinPattern:\n",
    "    def __init__(self):\n",
    "        # 3x3 grid to track visited numbers. X = vertical axis, Y = horizontal axis\n",
    "        self.grid_3x3 = [[False] * 3 for _ in range(3)]  \n",
    "        self.valid_patterns = [] # list of valid patterns\n",
    "\n",
    "    def is_valid_move(self, x: int, y: int, prev_x: int, prev_y: int) -> bool:\n",
    "        # Implement rules for valid moves (Only 1 step adjacent to the current number).\n",
    "        delta_x = int(abs(x-prev_x))\n",
    "        delta_y = int(abs(y-prev_y))\n",
    "\n",
    "        if (delta_x, delta_y) in [(1,0), (0,1), (1,1)]:\n",
    "            return True\n",
    "        else:\n",
    "            return False\n",
    "\n",
    "    def dfs_pattern(self, x, y, pin_length, pattern):\n",
    "        # Implement DFS to generate patterns\n",
    "        if pin_length == 0:\n",
    "            self.valid_patterns.append(pattern)\n",
    "            return\n",
    "\n",
    "        for new_x in range(3):\n",
    "            for new_y in range(3):\n",
    "                # print(f\"{new_x}, {new_y}\")\n",
    "                if not self.grid_3x3[new_x][new_y] and self.is_valid_move(new_x, new_y, x, y):\n",
    "                    self.grid_3x3[new_x][new_y] = True\n",
    "                    # print(f'level-{len(pattern + str(3 * new_x + new_y + 1))} vertex : {str(3 * new_x + new_y + 1)}')\n",
    "                    # Recursively append pattern until pin_length = 0\n",
    "                    self.dfs_pattern(new_x, new_y, pin_length - 1, pattern + str(3 * new_x + new_y + 1))\n",
    "                    # print(pattern + str(3 * new_x + new_y + 1))\n",
    "                    # Reset the grid check state\n",
    "                    self.grid_3x3[new_x][new_y] = False\n",
    "\n",
    "    def find_patterns(self, min_length, max_length):\n",
    "        self.length_range = f\"{min_length}_to_{max_length}\" if min_length!=max_length else str(max_length)\n",
    "\n",
    "        for pin_length in range(min_length, max_length + 1):\n",
    "            for x in range(3):\n",
    "                for y in range(3):\n",
    "                    self.grid_3x3[x][y] = True\n",
    "                    # print(f'level-1 vertex : {str(3 * x + y + 1)}')\n",
    "                    self.dfs_pattern(x, y, pin_length - 1, str(3 * x + y + 1))\n",
    "                    self.grid_3x3[x][y] = False\n",
    "\n",
    "# if __name__ == \"__main__\":\n",
    "#     android_pattern = AndroidPinPattern()\n",
    "#     android_pattern.find_patterns(2, 2)\n",
    "\n",
    "#     print(android_pattern.valid_patterns[:50])\n",
    "#     print(len(android_pattern.valid_patterns))\n",
    "\n",
    "#     with open(f\"pin_patterns_with_length_{android_pattern.length_range}.txt\", \"w\") as file:\n",
    "#         for pattern in android_pattern.valid_patterns:\n",
    "#             file.write(pattern + \"\\n\")"
   ]
  },
  {
   "cell_type": "code",
   "execution_count": 6,
   "metadata": {},
   "outputs": [
    {
     "name": "stdout",
     "output_type": "stream",
     "text": [
      "Number of possible PINs with length 1 is 9\n",
      "Number of possible PINs with length 2 is 40\n",
      "Number of possible PINs with length 3 is 160\n",
      "Number of possible PINs with length 4 is 496\n",
      "Number of possible PINs with length 5 is 1208\n",
      "Number of possible PINs with length 6 is 2240\n",
      "Number of possible PINs with length 7 is 2984\n",
      "Number of possible PINs with length 8 is 2384\n",
      "Number of possible PINs with length 9 is 784\n"
     ]
    }
   ],
   "source": [
    "def num_of_possible_pins(n):\n",
    "    android_pattern = AndroidPinPattern()\n",
    "    android_pattern.find_patterns(n, n)\n",
    "    return len(android_pattern.valid_patterns)\n",
    "\n",
    "for i in range(9):\n",
    "    print(f\"Number of possible PINs with length {i+1} is {num_of_possible_pins(i+1)}\")"
   ]
  },
  {
   "cell_type": "markdown",
   "metadata": {},
   "source": [
    "---"
   ]
  }
 ],
 "metadata": {
  "kernelspec": {
   "display_name": "Python 3",
   "language": "python",
   "name": "python3"
  },
  "language_info": {
   "codemirror_mode": {
    "name": "ipython",
    "version": 3
   },
   "file_extension": ".py",
   "mimetype": "text/x-python",
   "name": "python",
   "nbconvert_exporter": "python",
   "pygments_lexer": "ipython3",
   "version": "3.11.6"
  }
 },
 "nbformat": 4,
 "nbformat_minor": 2
}
