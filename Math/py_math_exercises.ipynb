{
  "cells": [
    {
      "cell_type": "markdown",
      "metadata": {
        "id": "jCLYt9CkqsY_"
      },
      "source": [
        "### **1. Infinite Tree**\n",
        "\n",
        "<img src=\"https://storage.googleapis.com/rg-ai-bootcamp/internship/tree.png\" width=\"500\" height=\"300\"\n",
        "        style=\"display: block; margin: 0 auto\"/>\n",
        "\n",
        "This is a special tree that keep growing, the growth rule is as follows:\n",
        "\n",
        "- On the first level, the height of the tree is `1000`\n",
        "- On the second level, the tree branch-out to `2` branches, each branch's height is `2/3` of the previous branch. Moreoever, the direction of the branched are rotated by `x` degree w.r.t the previous branch direction. (see the picture above)\n",
        "- On the next level, the same process is repeated.\n",
        "\n",
        "The height is vertical height, not the length of the branch and `0 > rotation_degree < 90`.\n",
        "What is the total height of the tree on the `n`-th level?"
      ]
    },
    {
      "cell_type": "markdown",
      "metadata": {
        "id": "uYPOIFTEAj8j"
      },
      "source": [
        "### **Solution**"
      ]
    },
    {
      "cell_type": "markdown",
      "metadata": {
        "id": "KYfmlk3YAoM4"
      },
      "source": [
        "Inspecting the case geometrically, we can see that branching that resulted in the highest tree growth follows two geometric progression in terms of height.\n",
        "\n",
        "$$\n",
        "\\begin{align}\n",
        "  h_{tot, odd} &= h_0 + h_0(2/3)^2 + h_0(2/3)^4 + h_0(2/3)^6 + ...\\tag{1}\\ \\\\\n",
        "  h_{tot, even} &= h_0 + h_0(2/3)^2 + h_0(2/3)^4 + h_0(2/3)^6 + ...\\tag{2}\\ \\\\\n",
        "\\end{align}\n",
        "$$\n",
        "\n",
        "Therefore the total tree height is the sum of $(1)$ and $(2)$:\n",
        "$$\n",
        "\\begin{align*}\n",
        "  h_{tot} = h_{tot, odd} + h_{tot, even}\n",
        "\\end{align*}\n",
        "$$"
      ]
    },
    {
      "cell_type": "code",
      "execution_count": 1,
      "metadata": {
        "id": "3lNz1FaphaCq"
      },
      "outputs": [],
      "source": [
        "import math\n",
        "import time"
      ]
    },
    {
      "cell_type": "code",
      "execution_count": 11,
      "metadata": {
        "colab": {
          "base_uri": "https://localhost:8080/"
        },
        "id": "uJ-y5PLYqsY_",
        "outputId": "511a229a-b37a-49ec-991f-1ae32b88873d"
      },
      "outputs": [
        {
          "name": "stdout",
          "output_type": "stream",
          "text": [
            "2988.3061\n",
            "2648.5281\n",
            "2973.7771\n"
          ]
        }
      ],
      "source": [
        "def sumOfGeoProg(n: int, r: float, a_0: float) -> float:\n",
        "  return a_0*(1-r**n)/(1-r)\n",
        "\n",
        "def TreeHeight(level: int, rotation_degree: int) -> float:\n",
        "  rotation_degree = math.radians(rotation_degree)\n",
        "  odd_occurence   = math.ceil(level/2)\n",
        "  even_occurence  = math.floor(level/2)\n",
        "  r = 4/9\n",
        "\n",
        "  Sn_odd  = sumOfGeoProg(odd_occurence, r, 1000)\n",
        "  Sn_even = sumOfGeoProg(even_occurence, r, 1000*(2/3)*math.cos(rotation_degree))\n",
        "  return round(Sn_odd+Sn_even, 4)\n",
        "\n",
        "print(\"The \"TreeHeight(30, 8))\n",
        "print(TreeHeight(50, 45))\n",
        "print(TreeHeight(100, 12))"
      ]
    },
    {
      "cell_type": "markdown",
      "metadata": {
        "id": "-5v_nqieqsZA"
      },
      "source": [
        "---"
      ]
    }
  ],
  "metadata": {
    "colab": {
      "provenance": [],
      "toc_visible": true
    },
    "kernelspec": {
      "display_name": "Python 3",
      "language": "python",
      "name": "python3"
    },
    "language_info": {
      "codemirror_mode": {
        "name": "ipython",
        "version": 3
      },
      "file_extension": ".py",
      "mimetype": "text/x-python",
      "name": "python",
      "nbconvert_exporter": "python",
      "pygments_lexer": "ipython3",
      "version": "3.9.6"
    }
  },
  "nbformat": 4,
  "nbformat_minor": 0
}
