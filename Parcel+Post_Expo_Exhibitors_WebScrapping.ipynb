{
 "cells": [
  {
   "cell_type": "code",
   "execution_count": 1,
   "metadata": {},
   "outputs": [],
   "source": [
    "import pandas as pd\n",
    "from bs4 import BeautifulSoup\n",
    "import requests"
   ]
  },
  {
   "cell_type": "markdown",
   "metadata": {},
   "source": [
    "## **Objectives**"
   ]
  },
  {
   "cell_type": "markdown",
   "metadata": {},
   "source": [
    "Our client will join the parcel + post expo in Frankfurt, Germany.\n",
    "For this we need an Excel list of all exhibitors. You can find them in this website: https://www.parcelandpostexpo.com/de/exhibitor-list.php\n",
    "\n",
    "In the Excel sheet we need following columns:\n",
    "- Company Name\n",
    "- Country\n",
    "- URL from their company website\n",
    "- Information if they speak German, you can enter \"yes\" when they are from Germany (Deutschland), Switzerland (Schweiz) or Austria Österreich)\n",
    "\n",
    "### **Website Snapshot:**"
   ]
  },
  {
   "cell_type": "code",
   "execution_count": 2,
   "metadata": {},
   "outputs": [],
   "source": [
    "URL = \"https://www.parcelandpostexpo.com/en/exhibitor-list.php\"\n",
    "page = requests.get(URL)\n",
    "soup = BeautifulSoup(page.content, \"html.parser\")"
   ]
  },
  {
   "cell_type": "code",
   "execution_count": 2,
   "metadata": {},
   "outputs": [],
   "source": [
    "# If the link doesn't work\n",
    "with open('Parcel+Post Expo 2024.html', 'r') as file:\n",
    "    contents = file.read()\n",
    "    soup = BeautifulSoup(contents, 'lxml')"
   ]
  },
  {
   "cell_type": "code",
   "execution_count": 5,
   "metadata": {},
   "outputs": [
    {
     "data": {
      "text/html": [
       "<div>\n",
       "<style scoped>\n",
       "    .dataframe tbody tr th:only-of-type {\n",
       "        vertical-align: middle;\n",
       "    }\n",
       "\n",
       "    .dataframe tbody tr th {\n",
       "        vertical-align: top;\n",
       "    }\n",
       "\n",
       "    .dataframe thead th {\n",
       "        text-align: right;\n",
       "    }\n",
       "</style>\n",
       "<table border=\"1\" class=\"dataframe\">\n",
       "  <thead>\n",
       "    <tr style=\"text-align: right;\">\n",
       "      <th></th>\n",
       "      <th>stand_no</th>\n",
       "      <th>company_name</th>\n",
       "      <th>country</th>\n",
       "      <th>company_site</th>\n",
       "      <th>is_german_speaking</th>\n",
       "    </tr>\n",
       "  </thead>\n",
       "  <tbody>\n",
       "    <tr>\n",
       "      <th>0</th>\n",
       "      <td>10.215</td>\n",
       "      <td>aeqoom a.s.</td>\n",
       "      <td>Czech Republic</td>\n",
       "      <td>https://www.aeqoom.com/</td>\n",
       "      <td>no</td>\n",
       "    </tr>\n",
       "    <tr>\n",
       "      <th>1</th>\n",
       "      <td>12.440</td>\n",
       "      <td>ALFI FIMEC</td>\n",
       "      <td>France</td>\n",
       "      <td>https://www.alfi-technologies.com/</td>\n",
       "      <td>no</td>\n",
       "    </tr>\n",
       "    <tr>\n",
       "      <th>2</th>\n",
       "      <td>12.110</td>\n",
       "      <td>Alstef Group</td>\n",
       "      <td>New Zealand</td>\n",
       "      <td>https://www.alstefgroup.com/</td>\n",
       "      <td>no</td>\n",
       "    </tr>\n",
       "    <tr>\n",
       "      <th>3</th>\n",
       "      <td>10.134</td>\n",
       "      <td>Angelini Technologies - FAMECCANICA</td>\n",
       "      <td>Italy</td>\n",
       "      <td>https://www.fameccanica.com/</td>\n",
       "      <td>no</td>\n",
       "    </tr>\n",
       "    <tr>\n",
       "      <th>4</th>\n",
       "      <td>11.136</td>\n",
       "      <td>AntÃ­poda Lda.</td>\n",
       "      <td>Portugal</td>\n",
       "      <td>https://www.antipoda.eu/</td>\n",
       "      <td>no</td>\n",
       "    </tr>\n",
       "  </tbody>\n",
       "</table>\n",
       "</div>"
      ],
      "text/plain": [
       "  stand_no                         company_name         country  \\\n",
       "0   10.215                          aeqoom a.s.  Czech Republic   \n",
       "1   12.440                           ALFI FIMEC          France   \n",
       "2   12.110                         Alstef Group     New Zealand   \n",
       "3   10.134  Angelini Technologies - FAMECCANICA           Italy   \n",
       "4   11.136                       AntÃ­poda Lda.        Portugal   \n",
       "\n",
       "                         company_site is_german_speaking  \n",
       "0             https://www.aeqoom.com/                 no  \n",
       "1  https://www.alfi-technologies.com/                 no  \n",
       "2        https://www.alstefgroup.com/                 no  \n",
       "3        https://www.fameccanica.com/                 no  \n",
       "4            https://www.antipoda.eu/                 no  "
      ]
     },
     "execution_count": 5,
     "metadata": {},
     "output_type": "execute_result"
    }
   ],
   "source": [
    "column_list  = ['stand_no', 'company_name', 'country', 'company_site', 'is_german_speaking']\n",
    "ger_speaking_cty = [\"GERMANY\", \"SWITZERLAND\", \"AUSTRIA\"]\n",
    "exhibitor_df = pd.DataFrame({col:[] for col in column_list})\n",
    "\n",
    "# Iterate through all of the exhibitors in the website 'exhibitor-column' class\n",
    "exhibitor_cards = soup.find_all(\"div\", class_=\"col-md-4 exhibitor-column\")\n",
    "for card in exhibitor_cards:\n",
    "    lang_german = \"yes\" if card[\"data-country\"] in ger_speaking_cty else \"no\" \n",
    "    val_list    = [card[\"data-stand\"], \n",
    "                   card[\"data-company\"], \n",
    "                   card[\"data-country\"], \n",
    "                   card.find('a')[\"href\"], \n",
    "                   lang_german]\n",
    "    exhibitor_df.loc[len(exhibitor_df)] = val_list\n",
    "\n",
    "# Reformatting data\n",
    "exhibitor_df['country'] = exhibitor_df['country'].str.title()\n",
    "exhibitor_df.head()"
   ]
  },
  {
   "cell_type": "code",
   "execution_count": 8,
   "metadata": {},
   "outputs": [],
   "source": [
    "# Export dataframe to Excel\n",
    "exhibitor_df.to_excel('Parcel+Post Expo 2024 Exhibitor List.xlsx', index=False)"
   ]
  }
 ],
 "metadata": {
  "kernelspec": {
   "display_name": "Python 3.10.0 64-bit",
   "language": "python",
   "name": "python3"
  },
  "language_info": {
   "codemirror_mode": {
    "name": "ipython",
    "version": 3
   },
   "file_extension": ".py",
   "mimetype": "text/x-python",
   "name": "python",
   "nbconvert_exporter": "python",
   "pygments_lexer": "ipython3",
   "version": "3.11.6"
  },
  "orig_nbformat": 4,
  "vscode": {
   "interpreter": {
    "hash": "78d3879e55fa46ad822c0717174859e77a1b80e72b088d1f45bc1ee831f1082d"
   }
  }
 },
 "nbformat": 4,
 "nbformat_minor": 2
}
