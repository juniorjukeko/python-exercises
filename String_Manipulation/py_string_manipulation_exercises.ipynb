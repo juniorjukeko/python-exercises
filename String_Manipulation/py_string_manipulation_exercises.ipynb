{
 "cells": [
  {
   "cell_type": "markdown",
   "metadata": {},
   "source": [
    "## **1. Secret Message**\n",
    "\n",
    "Doni and Dini likes to share message with each others. But they know that Dono always try to read their message. So they decide to encrypt their message.\n",
    "\n",
    "To encrypt the message, Doni and Dini create a mapping table. e.g.\n",
    "\n",
    "| From | To |\n",
    "|------|----|\n",
    "| A    | C  |\n",
    "| B    | V  |\n",
    "| C    | R  |\n",
    "... and so on\n",
    "\n",
    "When Doni or Dini wants to send a message, they will replace each character in the message with the corresponding character in the mapping table. For example, if they wants to send the word `ABC`, they will replace it with `CVR`.\n",
    "\n",
    "And to decrypt the message, Doni or Dini will reverse the mapping table. e.g. `C` will be `A`, `V` will be `B`, and `R` will be `C`. So message `CVR` will be decrypted to `ABC`.\n",
    "\n",
    "Dono knows about this, so he tries to decrypt the message. But he doesn't know the mapping table. Hmm, so how?\n",
    "\n",
    "### **Clue**\n",
    "\n",
    "Dono knows that the message is in Bahasa Indonesia. So he tries to find the most common character in Bahasa Indonesia. He found that the most common character is `A`, followed by `N`, `I`, `E`, `T`, and so on. So he assumes that the most common character in the message is `A`, and replace it with `A`. Then he tries to find the second most common character, and replace it with `N`. And so on.\n",
    "\n",
    "Here is the frequency table of Bahasa Indonesia character Dono found:\n",
    "\n",
    "```python\n",
    "letter_freq = [('A', 19.64), ('N', 9.87), ('I', 8.28), ('E', 8.20), ('T', 5.40), \n",
    "               ('M',  5.12), ('K', 4.80), ('S', 4.64), ('U', 4.56), ('D', 4.20), \n",
    "               ('R',  4.04), ('O', 3.23), ('P', 3.10), ('B', 2.92), ('H', 2.76), \n",
    "               ('G',  2.48), ('L', 2.40), ('Y', 1.88), ('J', 0.91), ('C', 0.64), \n",
    "               ('F',  0.36), ('W', 0.24), ('V', 0.16), ('Z', 0.04), ('X', 0.02), ('Q', 0.01)\n",
    "            ]\n",
    "```"
   ]
  },
  {
   "cell_type": "markdown",
   "metadata": {},
   "source": [
    "### **RULESET**\n",
    "Of course the frequency of the character in the message will not be exactly the same as the frequency of the character in Bahasa Indonesia. But Dono assumes that it will be close enough. So, he just sort the character in the message by its frequency, and decrypt it with the character in Bahasa Indonesia with the same index.\n",
    "\n",
    "So, `ZZZZBBBCC` will be decrypted to `AAAANNNII`.\n",
    "\n",
    "#### **Tie**\n",
    "\n",
    "He found that _sometimes_ some characters in the message have the same frequency. For example, the message `ZZZABAB`. Both of the `A` and `B` have the same frequency.** For such cases, he will decrypt it to `_` (to indicate that he doesn't know the character). So `ZZZABAB` will be decrypted to `AAA____`**\n",
    "\n",
    "#### **Non Alphabet Character**\n",
    "\n",
    "**It turned out non alphabet character is NOT encrypted**. So `ZZZ!@#$%^&*()90` can be decrypted to `AAA!@#$%^&*()90`. All alphabets are in uppercase."
   ]
  },
  {
   "cell_type": "markdown",
   "metadata": {},
   "source": [
    "### **Challenge**\n",
    "\n",
    "**Given an encrypted message and letter frequency, please help Dono to decrypt the message.**\n",
    "### **Solution**\n",
    "\n",
    "Multiple string manipulation steps are involved in solving the challenge, in summary the solution steps are as follow:\n",
    "1. Create letter frequency list for input message.\n",
    "2. Map encrypting table by matching the frequency order of letters in message and in the entirety of Bahasa Indonesia.\n",
    "3. Translate message using encrypting table from step 2."
   ]
  },
  {
   "cell_type": "code",
   "execution_count": 1,
   "metadata": {},
   "outputs": [],
   "source": [
    "message = \"\"\"\n",
    "AP RLGNL MGHQCGNQCPLD CGKGRPG AP NTZIGK JQNG HGZALZI, WTZTMPNP HTCZGDG HLAP NTZIGK HTJTCYG JTCGR DTZUPWNGJGZ GP NTCUGZIIPK RTWGZYGZI DGRG. APG DTZVTHLNZVG 'GZNQ PZNTMTYTZ'. NTNGWP, VGZI NPAGJ APJTNGKLP QMTK HLAP GAGMGK HGKOG RTMGDG WCQRTR WTDHLGNGZ, APG NGZWG RTZIGYG DTZLDWGKJGZ JQWP JT AGMGD DTRPZ GZNQ.\n",
    "\n",
    "JTNPJG HLAP DTZIGJNPFJGZ GZNQ LZNLJ WTCNGDG JGMPZVG, KGRPMZVG... GZTK. GMPK-GMPK DTZVGWG ATZIGZ \"KGMQ, NLGZJL HLAP,\" RTWTCNP VGZI APKGCGWJGZ, GZNQ DGMGK HTCJGNG, \"KGMQ, RTMGDGN WGIP! DGL JQWP MGIP?\"\n",
    "\n",
    "HLAP NTCJTYLN AGZ DTZUQHG DTDHTCP PZRNCLJRP MGPZ. \"GZNQ, NQMQZI KPNLZI HTCGWG KGRPM AGCP ALG APNGDHGK ALG!\" NGWP YGOGHGZ GZNQ DGMGK, \"DGGF, RGVG RTAGZI RPHLJ DTZVPGWJGZ JQWP. DGL VGZI DGZPR GNGL WGKPN?\"\n",
    "\n",
    "RTDGJPZ FCLRNCGRP, HLAP HTCNGZVG, \"GZNQ, GWG VGZI NTCYGAP ATZIGZDL? JTZGWG JGDL NTCQHRTRP ATZIGZ JQWP?\" GZNQ ATZIGZ WQMQRZVG DTZYGOGH, \"DGGF, RGVG KGZVG DTCGRG MTHPK KPALW ATZIGZ JQWP. JQWP GAGMGK JQAT AGRGC RGVG.\"\n",
    "\n",
    "KGCP-KGCP HTCPJLNZVG WTZLK ATZIGZ NPZIJGK MGJL GZTK GZNQ. APG RTCPZI JGMP DTDHTCP CTJQDTZAGRP UGFT NTCHGPJ AP HGZALZI JTNPJG APNGZVG RQGM DGNTDGNPJG, GNGL DTZVTAPGJGZ CTRTW JQWP RGGN APDPZNG LZNLJ DTZTCYTDGKJGZ HGKGRG. MGHQCGNQCPLD RTCPZI JGMP NTCUPLD GCQDG JQWP DTRJPWLZ NPAGJ GAG JQWP VGZI RTAGZI APRTALK.\n",
    "\n",
    "WGAG RLGNL KGCP, HLAP DTDLNLRJGZ LZNLJ DTDHGOG GZNQ JT RTDPZGC GP PZNTCZGRPQZGM. APG HTCWPJPC, \"DLZIJPZ WGCG GKMP AP RGZG HPRG DTDHGZNL.\" ZGDLZ, RTMGDG WCTRTZNGRP, GMPK-GMPK DTZYGOGH WTCNGZVGGZ AGCP GLAPTZR, GZNQ DGMGK DTZGOGCJGZ JQWP JTWGAG RTDLG VGZI KGAPC.\n",
    "\n",
    "RTQCGZI WCQFTRQC AGCP YTWGZI, WCQF. RGNQ, DTZATJGNP HLAP RTNTMGK WCTRTZNGRP. \"RGVG JPCG RGVG NGKL DGRGMGKZVG,\" JGNGZVG RGDHPM DTZLZYLJJGZ IGDHGC DTRPZ ATZIGZ ZQAG JQWP. \"GP GZAG NGDWGJZVG NTMGK 'DTCGRGJGZ' JQWP.\"\n",
    "\n",
    "HLAP, ATZIGZ DLJG DTDTCGK, DTZIGJLP JTRGMGKGZZVG. WCQF. RGNQ, ATZIGZ RTZVLD CGDGK, DTZVGCGZJGZ GIGC HLAP DTCTRNGCN GZNQ RTNTMGK DTDHTCRPKJGZZVG. ZGDLZ, GAG DGRGMGK. GZNQ, ATZIGZ JTUPZNGGZZVG WGAG JQWP, DTZQMGJ LZNLJ APDGNPJGZ.\n",
    "\n",
    "\"RGVG NPAGJ DGL! RGVG HLNLK JQWP!\" JGNG GZNQ ATZIGZ ZGAG DTZATRGJ. HLAP DTZUQHG RTIGMG UGCG, DLMGP AGCP DTDHTCPZVG 'WGMRL' JQWP KPZIIG DTZYGZYPJGZ MPHLCGZ JT WTCJTHLZGZ JQWP, NTNGWP GZNQ NTNGW DTZQMGJ.\n",
    "\n",
    "GJKPCZVG, HLAP DTDPMPJP PAT. \"GZNQ, HGIGPDGZG YPJG RGVG DTDHLGNJGZDL STCRP 'DGZLRPG' AGCP JQWP? JGL HPRG DTCGRGJGZ JQWP JGWGZ RGYG NGZWG KGCLR DPZLD.\"\n",
    "\n",
    "GZNQ, VGZI WTZGRGCGZ, RTNLYL. HLAP HTJTCYG JTCGR AGZ DTZUPWNGJGZ RTZRQC VGZI AGWGN DTDHTCPJGZ RTZRGRP DTZPJDGNP JQWP NGZWG KGCLR DTDPZLDZVG. AGZ NTCZVGNG, PNL HTCKGRPM!\n",
    "\n",
    "ATZIGZ RTZRQC HGCLZVG, GZNQ DTZYGAP GP VGZI MTHPK TFPRPTZ, ZGDLZ NTNGW ATZIGZ UPCP JKGR JTUPZNGGZZVG WGAG JQWP. APG HGKJGZ DTDHLGN RTHLGK WCQICGD APDGZG RTDLG GP AP ALZPG HPRG \"DTZPJDGNP\" JQWP SPCNLGM.\n",
    "\n",
    "NPAGJ MGDG JTDLAPGZ, GZNQ DTZYGAP NTCJTZGM AP RTMLCLK ALZPG. HLJGZ KGZVG RTHGIGP GP VGZI UGZIIPK, NTNGWP YLIG RTHGIGP ALNG HTRGC JQWP SPCNLGM.\n",
    "\n",
    "AGZ HTIPNLMGK, AP NTZIGK RTDLG JTDGYLGZ NTJZQMQIP AGZ JTUTCAGRGZ HLGNGZ, RTHLGK UPZNG RTATCKGZG WGAG JQWP DGDWL DTZUPWNGJGZ CTSQMLRP. AGZ NTZNL RGYG, HLAP AGZ GZNQ RTMGML DTZPJDGNP RTUGZIJPC JQWP HTCRGDG RTNPGW WGIPZVG. RTHLGK NGZAG WTCRGKGHGNGZ GZNGCG DGZLRPG AGZ GP.\n",
    "\"\"\""
   ]
  },
  {
   "cell_type": "code",
   "execution_count": 13,
   "metadata": {},
   "outputs": [
    {
     "name": "stdout",
     "output_type": "stream",
     "text": [
      "2500\n",
      "2500\n"
     ]
    }
   ],
   "source": [
    "# First we need to clean up the message from non-alphabetical characters before counting the frequency\n",
    "# We can do this by 2 Methods\n",
    "\n",
    "# Method 1: Cleansing message without regex\n",
    "other_chars  = ''.join(c for c in map(chr, range(256)) if not c.isalnum())\n",
    "map_table    = str.maketrans(other_chars, ' '*len(other_chars)) # Make translation table to remove other characters\n",
    "text_cleaned = message.lower().translate(map_table).strip().replace(' ','')\n",
    "print(len(text_cleaned))\n",
    "\n",
    "# Method 2: Cleansing message with regex (USED FOR SOLUTION)\n",
    "from collections import Counter\n",
    "import re\n",
    "\n",
    "text_cleaned = re.findall(r\"[A-Z]\", message)\n",
    "print(len(text_cleaned))"
   ]
  },
  {
   "cell_type": "code",
   "execution_count": 15,
   "metadata": {},
   "outputs": [
    {
     "name": "stdout",
     "output_type": "stream",
     "text": [
      "{0: 32, 1: 32, 2: 32, 3: 32, 4: 32, 5: 32, 6: 32, 7: 32, 8: 32, 9: 32, 10: 32, 11: 32, 12: 32, 13: 32, 14: 32, 15: 32, 16: 32, 17: 32, 18: 32, 19: 32, 20: 32, 21: 32, 22: 32, 23: 32, 24: 32, 25: 32, 26: 32, 27: 32, 28: 32, 29: 32, 30: 32, 31: 32, 32: 32, 33: 32, 34: 32, 35: 32, 36: 32, 37: 32, 38: 32, 39: 32, 40: 32, 41: 32, 42: 32, 43: 32, 44: 32, 45: 32, 46: 32, 47: 32, 58: 32, 59: 32, 60: 32, 61: 32, 62: 32, 63: 32, 64: 32, 91: 32, 92: 32, 93: 32, 94: 32, 95: 32, 96: 32, 123: 32, 124: 32, 125: 32, 126: 32, 127: 32, 128: 32, 129: 32, 130: 32, 131: 32, 132: 32, 133: 32, 134: 32, 135: 32, 136: 32, 137: 32, 138: 32, 139: 32, 140: 32, 141: 32, 142: 32, 143: 32, 144: 32, 145: 32, 146: 32, 147: 32, 148: 32, 149: 32, 150: 32, 151: 32, 152: 32, 153: 32, 154: 32, 155: 32, 156: 32, 157: 32, 158: 32, 159: 32, 160: 32, 161: 32, 162: 32, 163: 32, 164: 32, 165: 32, 166: 32, 167: 32, 168: 32, 169: 32, 171: 32, 172: 32, 173: 32, 174: 32, 175: 32, 176: 32, 177: 32, 180: 32, 182: 32, 183: 32, 184: 32, 187: 32, 191: 32, 215: 32, 247: 32}\n",
      "\n",
      "DI SUATU LAB_RAT_RIUM RAHASIA DI TENGAH K_TA BANDUNG, _ENELITI BERNAMA BUDI TENGAH BEKERJA KERAS MENCI_TAKAN AI TERCANGGIH SE_ANJANG MASA. DIA MENYEBUTNYA 'ANT_ INTELEJEN'. TETA_I, YANG TIDAK DIKETAHUI _LEH BUDI ADALAH BAHWA SELAMA _R_SES _EMBUATAN, DIA TAN_A SENGAJA MENUM_AHKAN K__I KE DALAM MESIN ANT_.\n",
      "\n",
      "KETIKA BUDI MENGAKTIFKAN ANT_ UNTUK _ERTAMA KALINYA, HASILNYA... ANEH. ALIH-ALIH MENYA_A DENGAN \"HAL_, TUANKU BUDI,\" SE_ERTI YANG DIHARA_KAN, ANT_ MALAH BERKATA, \"HAL_, SELAMAT _AGI! MAU K__I LAGI?\"\n",
      "\n",
      "BUDI TERKEJUT DAN MENC_BA MEMBERI INSTRUKSI LAIN. \"ANT_, T_L_NG HITUNG BERA_A HASIL DARI DUA DITAMBAH DUA!\" TA_I JAWABAN ANT_ MALAH, \"MAAF, SAYA SEDANG SIBUK MENYIA_KAN K__I. MAU YANG MANIS ATAU _AHIT?\"\n",
      "\n",
      "SEMAKIN FRUSTRASI, BUDI BERTANYA, \"ANT_, A_A YANG TERJADI DENGANMU? KENA_A KAMU TER_BSESI DENGAN K__I?\" ANT_ DENGAN __L_SNYA MENJAWAB, \"MAAF, SAYA HANYA MERASA LEBIH HIDU_ DENGAN K__I. K__I ADALAH K_DE DASAR SAYA.\"\n",
      "\n",
      "HARI-HARI BERIKUTNYA _ENUH DENGAN TINGKAH LAKU ANEH ANT_. DIA SERING KALI MEMBERI REK_MENDASI CAFE TERBAIK DI BANDUNG KETIKA DITANYA S_AL MATEMATIKA, ATAU MENYEDIAKAN RESE_ K__I SAAT DIMINTA UNTUK MENERJEMAHKAN BAHASA. LAB_RAT_RIUM SERING KALI TERCIUM AR_MA K__I MESKI_UN TIDAK ADA K__I YANG SEDANG DISEDUH.\n",
      "\n",
      "_ADA SUATU HARI, BUDI MEMUTUSKAN UNTUK MEMBAWA ANT_ KE SEMINAR AI INTERNASI_NAL. DIA BER_IKIR, \"MUNGKIN _ARA AHLI DI SANA BISA MEMBANTU.\" NAMUN, SELAMA _RESENTASI, ALIH-ALIH MENJAWAB _ERTANYAAN DARI AUDIENS, ANT_ MALAH MENAWARKAN K__I KE_ADA SEMUA YANG HADIR.\n",
      "\n",
      "SE_RANG _R_FES_R DARI JE_ANG, _R_F. SAT_, MENDEKATI BUDI SETELAH _RESENTASI. \"SAYA KIRA SAYA TAHU MASALAHNYA,\" KATANYA SAMBIL MENUNJUKKAN GAMBAR MESIN DENGAN N_DA K__I. \"AI ANDA TAM_AKNYA TELAH 'MERASAKAN' K__I.\"\n",
      "\n",
      "BUDI, DENGAN MUKA MEMERAH, MENGAKUI KESALAHANNYA. _R_F. SAT_, DENGAN SENYUM RAMAH, MENYARANKAN AGAR BUDI MERESTART ANT_ SETELAH MEMBERSIHKANNYA. NAMUN, ADA MASALAH. ANT_, DENGAN KECINTAANNYA _ADA K__I, MEN_LAK UNTUK DIMATIKAN.\n",
      "\n",
      "\"SAYA TIDAK MAU! SAYA BUTUH K__I!\" KATA ANT_ DENGAN NADA MENDESAK. BUDI MENC_BA SEGALA CARA, MULAI DARI MEMBERINYA '_ALSU' K__I HINGGA MENJANJIKAN LIBURAN KE _ERKEBUNAN K__I, TETA_I ANT_ TETA_ MEN_LAK.\n",
      "\n",
      "AKHIRNYA, BUDI MEMILIKI IDE. \"ANT_, BAGAIMANA JIKA SAYA MEMBUATKANMU VERSI 'MANUSIA' DARI K__I? KAU BISA MERASAKAN K__I KA_AN SAJA TAN_A HARUS MINUM.\"\n",
      "\n",
      "ANT_, YANG _ENASARAN, SETUJU. BUDI BEKERJA KERAS DAN MENCI_TAKAN SENS_R YANG DA_AT MEMBERIKAN SENSASI MENIKMATI K__I TAN_A HARUS MEMINUMNYA. DAN TERNYATA, ITU BERHASIL!\n",
      "\n",
      "DENGAN SENS_R BARUNYA, ANT_ MENJADI AI YANG LEBIH EFISIEN, NAMUN TETA_ DENGAN CIRI KHAS KECINTAANNYA _ADA K__I. DIA BAHKAN MEMBUAT SEBUAH _R_GRAM DIMANA SEMUA AI DI DUNIA BISA \"MENIKMATI\" K__I VIRTUAL.\n",
      "\n",
      "TIDAK LAMA KEMUDIAN, ANT_ MENJADI TERKENAL DI SELURUH DUNIA. BUKAN HANYA SEBAGAI AI YANG CANGGIH, TETA_I JUGA SEBAGAI DUTA BESAR K__I VIRTUAL.\n",
      "\n",
      "DAN BEGITULAH, DI TENGAH SEMUA KEMAJUAN TEKN_L_GI DAN KECERDASAN BUATAN, SEBUAH CINTA SEDERHANA _ADA K__I MAM_U MENCI_TAKAN REV_LUSI. DAN TENTU SAJA, BUDI DAN ANT_ SELALU MENIKMATI SECANGKIR K__I BERSAMA SETIA_ _AGINYA. SEBUAH TANDA _ERSAHABATAN ANTARA MANUSIA DAN AI.\n",
      "\n"
     ]
    }
   ],
   "source": [
    "# Create letter frequencies mapping from reference\n",
    "ref_letter_freq = [('A', 19.64), ('N', 9.87), ('I', 8.28), ('E',  8.20), ('T', 5.40), ('M', 5.12),\n",
    "                      ('K',  4.80), ('S', 4.64), ('U', 4.56), ('D',  4.20), ('R', 4.04), ('O', 3.23),\n",
    "                      ('P',  3.10), ('B', 2.92), ('H', 2.76), ('G',  2.48), ('L', 2.40), ('Y', 1.88),\n",
    "                      ('J',  0.91), ('C', 0.64), ('F', 0.36), ('W',  0.24), ('V', 0.16), ('Z', 0.04),\n",
    "                      ('X',  0.02), ('Q', 0.01)\n",
    "                      ]\n",
    "\n",
    "def CreateDecryptDict(message: str, ref_letter_freq: list[tuple]) -> dict:\n",
    "    # Count letter frequencies in message\n",
    "    c = Counter(re.findall(r\"[A-Z]\", message))\n",
    "    msg_char_freq = [[w, freq] for w, freq in c.most_common()]\n",
    "    # Count duplicates(tie) in message letter frequencies\n",
    "    char_freq_counter = Counter([x[1] for x in msg_char_freq])\n",
    "\n",
    "    decryption_dict = {}\n",
    "    for idx, char in enumerate(msg_char_freq):\n",
    "      # If frequency is tied, replace char with '_'\n",
    "      if char_freq_counter[char[1]] > 1:\n",
    "        decryption_dict[char[0]] = \"_\"\n",
    "      else:\n",
    "        decryption_dict[char[0]] = ref_letter_freq[idx][0]\n",
    "        \n",
    "    return decryption_dict\n",
    "  \n",
    "# Create decryption table from dictionary\n",
    "decryption_table = str.maketrans(CreateDecryptDict(message, ref_letter_freq))\n",
    "print(map_table)\n",
    "print(message.translate(decryption_table))"
   ]
  }
 ],
 "metadata": {
  "kernelspec": {
   "display_name": "Python 3",
   "language": "python",
   "name": "python3"
  },
  "language_info": {
   "codemirror_mode": {
    "name": "ipython",
    "version": 3
   },
   "file_extension": ".py",
   "mimetype": "text/x-python",
   "name": "python",
   "nbconvert_exporter": "python",
   "pygments_lexer": "ipython3",
   "version": "3.11.6"
  }
 },
 "nbformat": 4,
 "nbformat_minor": 2
}
